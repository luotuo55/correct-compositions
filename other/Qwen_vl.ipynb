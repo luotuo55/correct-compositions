{
 "cells": [
  {
   "cell_type": "code",
   "execution_count": 12,
   "id": "a720fff0-3fce-4be6-bd3a-2f1b2a6b1115",
   "metadata": {},
   "outputs": [
    {
     "name": "stdout",
     "output_type": "stream",
     "text": [
      "{\"id\":\"chatcmpl-078fd442-ae67-9f2b-9313-831f3f456c2c\",\"choices\":[{\"finish_reason\":\"stop\",\"index\":0,\"logprobs\":null,\"message\":{\"content\":\"这篇作文的结构和内容都很好，但有一些小错误需要修改。以下是修改后的版本：\\n\\n---\\n\\n**历史乱套了**\\n\\n我认为历史是这样的：本来全世界的石头都是连在一起的，由于盘古开天地时力量无比大，所以把所有石头都震成了现在我们看见的小块块。但有一块石头例外了，它有一个故宫城那么大。人们千百年来都认为这是一块妖石。\\n\\n然而有一天，这块石头爆发了！天在震动，地在摇晃。突然，从石头里面窜出一只小猴子，他就是孙悟空。孙悟空取经回来后与白骨精结婚。住在盘丝洞。几个月后，他们生了一个女儿，取名叫慈禧。慈禧长大后就去后宫闯\\n\\n---\\n\\n希望这个修改对你有帮助！\",\"refusal\":null,\"role\":\"assistant\",\"function_call\":null,\"tool_calls\":null}}],\"created\":1727881884,\"model\":\"qwen-vl-plus-0809\",\"object\":\"chat.completion\",\"service_tier\":null,\"system_fingerprint\":null,\"usage\":{\"completion_tokens\":171,\"prompt_tokens\":330,\"total_tokens\":501,\"completion_tokens_details\":null,\"prompt_tokens_details\":null}}\n"
     ]
    }
   ],
   "source": [
    "import os\n",
    "from openai import OpenAI\n",
    "\n",
    "client = OpenAI(\n",
    "    api_key=\"sk-7c04ee6f9432492bb344baa7a5c0162f\",\n",
    "    base_url=\"https://dashscope.aliyuncs.com/compatible-mode/v1\",\n",
    ")\n",
    "completion = client.chat.completions.create(\n",
    "    model=\"qwen-vl-plus-2024-08-09\",\n",
    "    messages=[\n",
    "        {\n",
    "            \"role\": \"user\",\n",
    "            \"content\": [\n",
    "            {\n",
    "                \"type\": \"text\",\n",
    "                \"text\": \"请批改以下作文\"\n",
    "            },\n",
    "            {\n",
    "                \"type\": \"image_url\",\n",
    "                \"image_url\": {\n",
    "                \"url\": \"http://www.people.com.cn/mediafile/pic/20130227/71/10990806983465812115.jpg\"\n",
    "                }\n",
    "            }\n",
    "            ]\n",
    "        }\n",
    "        ]\n",
    "    )\n",
    "print(completion.model_dump_json())"
   ]
  },
  {
   "cell_type": "code",
   "execution_count": null,
   "id": "9b044a40-2fb6-4d70-bf25-d1b2de518db6",
   "metadata": {},
   "outputs": [],
   "source": []
  }
 ],
 "metadata": {
  "kernelspec": {
   "display_name": "Python 3 (ipykernel)",
   "language": "python",
   "name": "python3"
  },
  "language_info": {
   "codemirror_mode": {
    "name": "ipython",
    "version": 3
   },
   "file_extension": ".py",
   "mimetype": "text/x-python",
   "name": "python",
   "nbconvert_exporter": "python",
   "pygments_lexer": "ipython3",
   "version": "3.12.7"
  }
 },
 "nbformat": 4,
 "nbformat_minor": 5
}
